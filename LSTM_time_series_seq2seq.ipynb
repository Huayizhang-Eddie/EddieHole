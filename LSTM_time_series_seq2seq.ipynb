{
  "nbformat": 4,
  "nbformat_minor": 0,
  "metadata": {
    "colab": {
      "name": "LSTM time series seq2seq.ipynb",
      "provenance": [],
      "collapsed_sections": []
    },
    "kernelspec": {
      "name": "python3",
      "display_name": "Python 3"
    },
    "language_info": {
      "name": "python"
    },
    "accelerator": "GPU"
  },
  "cells": [
    {
      "cell_type": "code",
      "metadata": {
        "colab": {
          "base_uri": "https://localhost:8080/"
        },
        "id": "Z_94Ipnq0FGA",
        "outputId": "009a41a0-5f1a-4928-8d5f-5422e5bccfac"
      },
      "source": [
        "from google.colab import drive\n",
        "drive.mount('/content/drive')"
      ],
      "execution_count": null,
      "outputs": [
        {
          "output_type": "stream",
          "name": "stdout",
          "text": [
            "Drive already mounted at /content/drive; to attempt to forcibly remount, call drive.mount(\"/content/drive\", force_remount=True).\n"
          ]
        }
      ]
    },
    {
      "cell_type": "code",
      "metadata": {
        "id": "xLEs346s2jMT"
      },
      "source": [
        "import pandas as pd\n"
      ],
      "execution_count": null,
      "outputs": []
    },
    {
      "cell_type": "code",
      "metadata": {
        "id": "lJZ54KNK2FgI"
      },
      "source": [
        "def CleanRawData(file_path):\n",
        "\n",
        "  # Loading data as String\n",
        "  with  open(file_path) as f: \n",
        "    txt_train = f.read()\n",
        "    f.close()\n",
        "\n",
        "  # Delete'ip','timestamp','raw_messages','status_scores'from the Raw Data.\n",
        "  txt_train = txt_train.replace('ip:','')\n",
        "  txt_train = txt_train.replace('timestamp:','')\n",
        "  txt_train = txt_train.replace('raw_messages:','')\n",
        "  txt_train = txt_train.replace('status_score:','')\n",
        "\n",
        "  # Write the modified string to a txt file\n",
        "  with open(file_path,'w') as f:    \n",
        "    f.write(txt_train)\n",
        "\n",
        "  # Read the txt file into the csv required by machine learning to facilitate our subsequent processing.\n",
        "  df = pd.read_csv(file_path,\n",
        "                         delimiter=\",\",header= None,\n",
        "                         names=('ip','timestamp','raw_messages','status_score'))\n",
        "  \n",
        "  return df"
      ],
      "execution_count": null,
      "outputs": []
    },
    {
      "cell_type": "code",
      "metadata": {
        "id": "RFbaaX7v2T9v"
      },
      "source": [
        "df =CleanRawData('/content/drive/My Drive/exercise/train.txt')\n",
        "df_lstm = df.loc[:,['timestamp','status_score']]\n",
        "def fillVaules(object):\n",
        "  object['status_score'] = object['status_score'].interpolate(method = 'linear')\n",
        "fillVaules(df_lstm)\n",
        "df_lstm['timestamp'] = pd.to_datetime(df_lstm['timestamp'],unit='s')"
      ],
      "execution_count": null,
      "outputs": []
    },
    {
      "cell_type": "code",
      "metadata": {
        "id": "0SvAGZOy2T_9"
      },
      "source": [
        "#设置时间戳索引\n",
        "df_lstm['timestamp'] = pd.to_datetime(df_lstm['timestamp'])\n",
        "df_lstm.set_index(\"timestamp\", inplace=True)\n",
        "\n",
        "df_lstm"
      ],
      "execution_count": null,
      "outputs": []
    },
    {
      "cell_type": "markdown",
      "metadata": {
        "id": "KfY5nptn5bfo"
      },
      "source": [
        "###Split Data"
      ]
    },
    {
      "cell_type": "code",
      "metadata": {
        "colab": {
          "base_uri": "https://localhost:8080/"
        },
        "id": "zshM-gy42FiM",
        "outputId": "4406fde3-df81-48a2-f9b2-9c6decb40cfd"
      },
      "source": [
        "from numpy import split\n",
        "from numpy import array\n",
        "from pandas import read_csv\n",
        " \n",
        "\n",
        "# split a univariate dataset into train/test sets\n",
        "def split_dataset(data):\n",
        "\t# split into standard weeks\n",
        "\n",
        "\ttrain, test = df_lstm[0:500], df_lstm[500:]\n",
        "\t# restructure into windows of weekly data\n",
        "\ttrain = array(split(train, len(train)/50))\n",
        "\ttest = array(split(test, len(test)/50))\n",
        "\treturn train, test\n",
        " \n",
        "# load the new file\n",
        "\n",
        "train, test = split_dataset(df_lstm.values)\n",
        "# validate train data\n",
        "print(train.shape)\n",
        "print(train[0, 0, 0], train[-1, -1, 0])\n",
        "# validate test\n",
        "print(test.shape)\n",
        "print(test[0, 0, 0], test[-1, -1, 0])"
      ],
      "execution_count": null,
      "outputs": [
        {
          "output_type": "stream",
          "name": "stdout",
          "text": [
            "(10, 50, 1)\n",
            "1.0006245939086245 -0.2258127201836195\n",
            "(1, 50, 1)\n",
            "-1.0345353748427155 -1.7250154050852642\n"
          ]
        }
      ]
    },
    {
      "cell_type": "markdown",
      "metadata": {
        "id": "I2YgJ92K5eMw"
      },
      "source": [
        "### Evaluation"
      ]
    },
    {
      "cell_type": "code",
      "metadata": {
        "id": "IF4Mx6Yq2Fma"
      },
      "source": [
        "\n",
        "# evaluate one or more weekly forecasts against expected values\n",
        "def evaluate_forecasts(actual, predicted):\n",
        "\tscores = list()\n",
        "\t# calculate an RMSE score for each day\n",
        "\tfor i in range(actual.shape[1]):\n",
        "\t\t# calculate mse\n",
        "\t\tmse = mean_squared_error(actual[:, i], predicted[:, i])\n",
        "\t\t# calculate rmse\n",
        "\t\trmse = sqrt(mse)\n",
        "\t\t# store\n",
        "\t\tscores.append(rmse)\n",
        "\t# calculate overall RMSE\n",
        "\ts = 0\n",
        "\tfor row in range(actual.shape[0]):\n",
        "\t\tfor col in range(actual.shape[1]):\n",
        "\t\t\ts += (actual[row, col] - predicted[row, col])**2\n",
        "\tscore = sqrt(s / (actual.shape[0] * actual.shape[1]))\n"
      ],
      "execution_count": null,
      "outputs": []
    },
    {
      "cell_type": "code",
      "metadata": {
        "id": "Xzu7KeWc5ttI"
      },
      "source": [
        "# evaluate a single model\n",
        "def evaluate_model(train, test, n_input):\n",
        "\t# fit model\n",
        "\tmodel = build_model(train, n_input)\n",
        "\t# history is a list of weekly data\n",
        "\thistory = [x for x in train]\n",
        "\t# walk-forward validation over each week\n",
        "\tpredictions = list()\n",
        "\tfor i in range(len(test)):\n",
        "\t\t# predict the week\n",
        "\t\tyhat_sequence = forecast(model, history, n_input)\n",
        "\t\t# store the predictions\n",
        "\t\tpredictions.append(yhat_sequence)\n",
        "\t\t# get real observation and add to history for predicting the next week\n",
        "\t\thistory.append(test[i, :])\n",
        "\t# evaluate predictions days for each week\n",
        "\tpredictions = array(predictions)\n",
        "\tscore, scores = evaluate_forecasts(test[:, :, 0], predictions)\n",
        "\treturn score, scores"
      ],
      "execution_count": null,
      "outputs": []
    },
    {
      "cell_type": "code",
      "metadata": {
        "id": "v4WEcZjt5xFY"
      },
      "source": [
        "# summarize scores\n",
        "def summarize_scores(name, score, scores):\n",
        "\ts_scores = ', '.join(['%.1f' % s for s in scores])\n",
        "\tprint('%s: [%.3f] %s' % (name, score, s_scores))"
      ],
      "execution_count": null,
      "outputs": []
    },
    {
      "cell_type": "markdown",
      "metadata": {
        "id": "9WnXQJAR5g7-"
      },
      "source": [
        "### to supervised data\n",
        "\n",
        "接受一个50个points列表(历史记录)和作为输入和输出使用的时间步数，并以重叠的移动窗口格式返回数据。"
      ]
    },
    {
      "cell_type": "code",
      "metadata": {
        "id": "9xbEl0gP2Foq"
      },
      "source": [
        "# convert history into inputs and outputs\n",
        "def to_supervised(train, n_input, n_out=7):\n",
        "\t# flatten data\n",
        "\tdata = train.reshape((train.shape[0]*train.shape[1], train.shape[2]))\n",
        "\tX, y = list(), list()\n",
        "\tin_start = 0\n",
        "\t# step over the entire history one time step at a time\n",
        "\tfor _ in range(len(data)):\n",
        "\t\t# define the end of the input sequence\n",
        "\t\tin_end = in_start + n_input\n",
        "\t\tout_end = in_end + n_out\n",
        "\t\t# ensure we have enough data for this instance\n",
        "\t\tif out_end < len(data):\n",
        "\t\t\tx_input = data[in_start:in_end, 0]\n",
        "\t\t\tx_input = x_input.reshape((len(x_input), 1))\n",
        "\t\t\tX.append(x_input)\n",
        "\t\t\ty.append(data[in_end:out_end, 0])\n",
        "\t\t# move along one time step\n",
        "\t\tin_start += 1\n",
        "\treturn array(X), array(y)"
      ],
      "execution_count": null,
      "outputs": []
    },
    {
      "cell_type": "code",
      "metadata": {
        "id": "7wFcS75B2Fqp"
      },
      "source": [
        "# train the model\n",
        "def build_model(train, n_input):\n",
        "\t# prepare data\n",
        "\ttrain_x, train_y = to_supervised(train, n_input)\n",
        "\t# define parameters\n",
        "\tverbose, epochs, batch_size = 0, 70, 16\n",
        "\tn_timesteps, n_features, n_outputs = train_x.shape[1], train_x.shape[2], train_y.shape[1]\n",
        "\t# define model\n",
        "\tmodel = Sequential()\n",
        "\tmodel.add(LSTM(200, activation='relu', input_shape=(n_timesteps, n_features)))\n",
        "\tmodel.add(Dense(100, activation='relu'))\n",
        "\tmodel.add(Dense(n_outputs))\n",
        "\tmodel.compile(loss='mse', optimizer='adam')\n",
        "\t# fit network\n",
        "\tmodel.fit(train_x, train_y, epochs=epochs, batch_size=batch_size, verbose=verbose)\n",
        "\treturn model"
      ],
      "execution_count": null,
      "outputs": []
    },
    {
      "cell_type": "code",
      "metadata": {
        "id": "1o06fj6Z9gK6"
      },
      "source": [
        "# make a forecast\n",
        "def forecast(model, history, n_input):\n",
        "\t# flatten data\n",
        "\tdata = array(history)\n",
        "\tdata = data.reshape((data.shape[0]*data.shape[1], data.shape[2]))\n",
        "\t# retrieve last observations for input data\n",
        "\tinput_x = data[-n_input:, 0]\n",
        "\t# reshape into [1, n_input, 1]\n",
        "\tinput_x = input_x.reshape((1, len(input_x), 1))\n",
        "\t# forecast the next week\n",
        "\tyhat = model.predict(input_x, verbose=0)\n",
        "\t# we only want the vector forecast\n",
        "\tyhat = yhat[0]\n",
        "\treturn yhat"
      ],
      "execution_count": null,
      "outputs": []
    },
    {
      "cell_type": "markdown",
      "metadata": {
        "id": "hqQbvPlI_UuA"
      },
      "source": [
        "### Together"
      ]
    },
    {
      "cell_type": "code",
      "metadata": {
        "colab": {
          "base_uri": "https://localhost:8080/"
        },
        "id": "jgxmQjFo9gPN",
        "outputId": "0de3daee-2709-4f4a-e0ac-60f34096c32b"
      },
      "source": [
        "# univariate multi-step lstm\n",
        "from math import sqrt\n",
        "from numpy import split\n",
        "from numpy import array\n",
        "from pandas import read_csv\n",
        "from sklearn.metrics import mean_squared_error\n",
        "from matplotlib import pyplot\n",
        "from keras.models import Sequential\n",
        "from keras.layers import Dense\n",
        "from keras.layers import Flatten\n",
        "from keras.layers import LSTM\n",
        " \n",
        "# split a univariate dataset into train/test sets\n",
        "def split_dataset(data):\n",
        "\t# split into 10*5 train data size ,\n",
        "\n",
        "\ttrain, test = df_lstm[0:500], df_lstm[500:]\n",
        "\t# restructure into windows of 50 periodic data\n",
        "\ttrain = array(split(train, len(train)/50))\n",
        "\ttest = array(split(test, len(test)/50))\n",
        "\treturn train, test\n",
        " \n",
        "# load the new file\n",
        "\n",
        "train, test = split_dataset(df_lstm.values)\n",
        "# validate train data\n",
        "print(train.shape)\n",
        "print(train[0, 0, 0], train[-1, -1, 0])\n",
        "# validate test\n",
        "print(test.shape)\n",
        "print(test[0, 0, 0], test[-1, -1, 0])\n",
        " \n",
        "# evaluate one or more periodict forecasts against expected values\n",
        "def evaluate_forecasts(actual, predicted):\n",
        "\tscores = list()\n",
        "\t# calculate an RMSE score for each day\n",
        "\tfor i in range(actual.shape[1]):\n",
        "\t\t# calculate mse\n",
        "\t\tmse = mean_squared_error(actual[:, i], predicted[:, i])\n",
        "\t\t# calculate rmse\n",
        "\t\trmse = sqrt(mse)\n",
        "\t\t# store\n",
        "\t\tscores.append(rmse)\n",
        "\t# calculate overall RMSE\n",
        "\ts = 0\n",
        "\tfor row in range(actual.shape[0]):\n",
        "\t\tfor col in range(actual.shape[1]):\n",
        "\t\t\ts += (actual[row, col] - predicted[row, col])**2\n",
        "\tscore = sqrt(s / (actual.shape[0] * actual.shape[1]))\n",
        "\treturn score, scores\n",
        " \n",
        "# summarize scores\n",
        "def summarize_scores(name, score, scores):\n",
        "\ts_scores = ', '.join(['%.1f' % s for s in scores])\n",
        "\tprint('%s: [%.3f] %s' % (name, score, s_scores))\n",
        " \n",
        "# convert history into inputs and outputs\n",
        "def to_supervised(train, n_input, n_out=50):\n",
        "\t# flatten data\n",
        "\tdata = train.reshape((train.shape[0]*train.shape[1], train.shape[2]))\n",
        "\tX, y = list(), list()\n",
        "\tin_start = 0\n",
        "\t# step over the entire history one time step at a time\n",
        "\tfor _ in range(len(data)):\n",
        "\t\t# define the end of the input sequence\n",
        "\t\tin_end = in_start + n_input\n",
        "\t\tout_end = in_end + n_out\n",
        "\t\t# ensure we have enough data for this instance\n",
        "\t\tif out_end < len(data):\n",
        "\t\t\tx_input = data[in_start:in_end, 0]\n",
        "\t\t\tx_input = x_input.reshape((len(x_input), 1))\n",
        "\t\t\tX.append(x_input)\n",
        "\t\t\ty.append(data[in_end:out_end, 0])\n",
        "\t\t# move along one time step\n",
        "\t\tin_start += 1\n",
        "\treturn array(X), array(y)\n",
        " \n",
        "# train the model\n",
        "def build_model(train,n_input):\n",
        "  # prepare data\n",
        "  train_x,train_y = to_supervised(train,n_input)\n",
        "  #define parameters\n",
        "  verbose, epochs, batch_size = 0,70,16\n",
        "  n_timesteps, n_features, n_outputs = train_x.shape[1], train_x.shape[2], train_y.shape[1]\n",
        "  #define model \n",
        "  model = Sequential()\n",
        "  model.add(LSTM(200, activation='relu', input_shape = (n_timesteps,n_features)))\n",
        "  model.add(Dense(100, activation='relu'))\n",
        "  model.add(Dense(n_outputs))\n",
        "  model.compile(loss = 'mse',optimizer='adam')\n",
        "  #fit model\n",
        "  model.fit(train_x,train_y,epochs=epochs,batch_size=batch_size,verbose = verbose)\n",
        "  model.save('/content/drive/My Drive/exercise/LSTM')\n",
        "  return model\n",
        " \n",
        "\n",
        "\n",
        "# make a forecast\n",
        "def forecast(model, history, n_input):\n",
        "\t# flatten data\n",
        "\tdata = array(history)\n",
        "\tdata = data.reshape((data.shape[0]*data.shape[1], data.shape[2]))\n",
        "\t# retrieve last observations for input data\n",
        "\tinput_x = data[-n_input:, 0]\n",
        "\t# reshape into [1, n_input, 1]\n",
        "\tinput_x = input_x.reshape((1, len(input_x), 1))\n",
        "\t# forecast the next 50\n",
        "\tyhat = model.predict(input_x, verbose=0)\n",
        "\t# we only want the vector forecast\n",
        "\tyhat = yhat[0]\n",
        "\treturn yhat\n",
        " \n",
        "# evaluate a single model\n",
        "def evaluate_model(train, test, n_input):\n",
        "\t# fit model\n",
        "\tmodel = build_model(train, n_input)\n",
        "\t# history is a list of weekly data\n",
        "\thistory = [x for x in train]\n",
        "\t# walk-forward validation over each week\n",
        "\tpredictions = list()\n",
        "\tfor i in range(len(test)):\n",
        "\t\t# predict the 50\n",
        "\t\tyhat_sequence = forecast(model, history, n_input)\n",
        "\t\t# store the predictions\n",
        "\t\tpredictions.append(yhat_sequence)\n",
        "\t\t# get real observation and add to history for predicting the next week\n",
        "\t\thistory.append(test[i, :])\n",
        "\t# evaluate predictions days for each week\n",
        "\tpredictions = array(predictions)\n",
        "\tscore, scores = evaluate_forecasts(test[:, :, 0], predictions)\n",
        "\treturn score, scores\n",
        " \n",
        "# load the new file\n",
        "dataset = df_lstm\n",
        "# split into train and test\n",
        "train, test = split_dataset(dataset.values)\n",
        "# evaluate model and get scores\n",
        "n_input = 50\n",
        "score, scores = evaluate_model(train, test, n_input)\n",
        "# summarize scores\n",
        "summarize_scores('lstm',score, scores)\n",
        "#Save model \n",
        "# plot scores"
      ],
      "execution_count": null,
      "outputs": [
        {
          "output_type": "stream",
          "name": "stdout",
          "text": [
            "(10, 50, 1)\n",
            "1.0006245939086245 -0.2258127201836195\n",
            "(1, 50, 1)\n",
            "-1.0345353748427155 -1.7250154050852642\n",
            "WARNING:tensorflow:Layer lstm_6 will not use cuDNN kernels since it doesn't meet the criteria. It will use a generic GPU kernel as fallback when running on GPU.\n",
            "INFO:tensorflow:Assets written to: /content/drive/My Drive/exercise/LSTM/assets\n",
            "lstm: [4.138] 0.0, 2.7, 0.7, 25.8, 1.8, 1.1, 0.5, 0.1, 0.4, 0.2, 0.7, 0.7, 0.5, 0.9, 4.9, 5.9, 1.4, 1.0, 1.3, 0.2, 0.7, 0.3, 0.3, 0.2, 0.9, 2.2, 5.8, 3.0, 0.2, 1.8, 1.0, 0.6, 0.7, 0.6, 0.9, 0.2, 2.5, 3.8, 5.0, 2.5, 1.0, 0.8, 1.2, 0.4, 0.2, 0.1, 0.2, 0.6, 0.4, 0.8\n"
          ]
        }
      ]
    },
    {
      "cell_type": "code",
      "metadata": {
        "colab": {
          "base_uri": "https://localhost:8080/"
        },
        "id": "S2Xk58YdM53W",
        "outputId": "265df532-67a6-440c-db8d-fda545114a84"
      },
      "source": [
        "from tensorflow import keras\n",
        "LSTM_model = keras.models.load_model('/content/drive/My Drive/exercise/LSTM')"
      ],
      "execution_count": null,
      "outputs": [
        {
          "output_type": "stream",
          "name": "stdout",
          "text": [
            "WARNING:tensorflow:Layer lstm_6 will not use cuDNN kernels since it doesn't meet the criteria. It will use a generic GPU kernel as fallback when running on GPU.\n"
          ]
        }
      ]
    },
    {
      "cell_type": "code",
      "metadata": {
        "id": "kC_NKyfEM55y"
      },
      "source": [
        "pred_y = LSTM_model.predict(test)"
      ],
      "execution_count": null,
      "outputs": []
    },
    {
      "cell_type": "code",
      "metadata": {
        "id": "6K6AB9TbQ09M"
      },
      "source": [
        "# convert (1,50) to (50,1)\n",
        "pred_y = pred_y.reshape(50,1)"
      ],
      "execution_count": null,
      "outputs": []
    },
    {
      "cell_type": "code",
      "metadata": {
        "id": "K3DkcTV2VYb-"
      },
      "source": [
        "pred_y"
      ],
      "execution_count": null,
      "outputs": []
    },
    {
      "cell_type": "code",
      "metadata": {
        "id": "lJf9vcECXp7G"
      },
      "source": [
        "# Define function of Clean Test.txt\n",
        "def CleanTestData(file_path):\n",
        "    with open(file_path) as f:\n",
        "      txt_test = f.read()\n",
        "      f.close()\n",
        "\n",
        "    # Do the same data processing on the test.txt.\n",
        "    txt_test = txt_test.replace('timestamp:','')\n",
        "\n",
        "    with open(file_path,'w') as f:    \n",
        "      f.write(txt_test)\n",
        "    \n",
        "    df_pred = pd.read_csv(file_path,\n",
        "                          delimiter=\",\",header= None)\n",
        "    \n",
        "    df_pred.columns = ['timestamp']\n",
        "    return df_pred\n",
        "\n",
        "def convert_test_index_timestmp():\n",
        "  # Do the same data processing on the test.txt.\n",
        "  df_pred['timestamp'] = pd.to_datetime(df_pred['timestamp'])\n",
        "  df_pred.set_index(\"timestamp\", inplace=True)"
      ],
      "execution_count": null,
      "outputs": []
    },
    {
      "cell_type": "code",
      "metadata": {
        "id": "nYypLKujXwEg"
      },
      "source": [
        "df_pred = CleanTestData('/content/drive/My Drive/exercise/test.txt')\n",
        "\n",
        "df_pred['timestamp'] = pd.to_datetime(df_pred['timestamp'],unit='s')"
      ],
      "execution_count": null,
      "outputs": []
    },
    {
      "cell_type": "code",
      "metadata": {
        "id": "cTO0fou6XwGl"
      },
      "source": [
        "df_pred = df_pred.values"
      ],
      "execution_count": null,
      "outputs": []
    },
    {
      "cell_type": "code",
      "metadata": {
        "id": "FnPX-3zyOjTE"
      },
      "source": [
        "# convert (1,50) to (50,1)\n",
        "df_pred = df_pred.reshape(50,1)"
      ],
      "execution_count": null,
      "outputs": []
    },
    {
      "cell_type": "code",
      "metadata": {
        "id": "Bh6MzOyJbIRj"
      },
      "source": [
        "#Convert a two-dimensional array to one-dimensional.\n",
        "df_pred = df_pred.ravel()"
      ],
      "execution_count": null,
      "outputs": []
    },
    {
      "cell_type": "code",
      "metadata": {
        "id": "Uhbhmbc9bO3B"
      },
      "source": [
        "# Convert a two-dimensional array to one-dimensional.\n",
        "pred_y =pred_y.ravel()"
      ],
      "execution_count": null,
      "outputs": []
    },
    {
      "cell_type": "code",
      "metadata": {
        "id": "YIK_LgpuBm7T"
      },
      "source": [
        "pred_all= pd.DataFrame(columns={'timestamp','Test_Prediction'})\n",
        "pred_all['timestamp'] = df_pred\n",
        "pred_all['Test_Prediction'] = pred_y"
      ],
      "execution_count": null,
      "outputs": []
    },
    {
      "cell_type": "code",
      "metadata": {
        "id": "YMafyBEWdNqt"
      },
      "source": [
        "pred_all['timestamp'] = pd.to_datetime(pred_all['timestamp'])\n",
        "pred_all.set_index(\"timestamp\", inplace=True)"
      ],
      "execution_count": null,
      "outputs": []
    },
    {
      "cell_type": "code",
      "metadata": {
        "id": "KuWDeSpbdFiD"
      },
      "source": [
        "df_all = pd.concat([df_lstm,pred_all])  "
      ],
      "execution_count": null,
      "outputs": []
    },
    {
      "cell_type": "code",
      "metadata": {
        "colab": {
          "base_uri": "https://localhost:8080/",
          "height": 604
        },
        "id": "LsrCwaNI2Fvc",
        "outputId": "76d65ac6-3bef-483c-ba43-0e4c66cef010"
      },
      "source": [
        "check_lstm= df_all[['status_score','Test_Prediction']].plot(figsize=(22, 10))"
      ],
      "execution_count": null,
      "outputs": [
        {
          "output_type": "display_data",
          "data": {
            "image/png": "[encoded data removed]",
            "text/plain": [
              "<Figure size 1584x720 with 1 Axes>"
            ]
          },
          "metadata": {
            "needs_background": "light"
          }
        }
      ]
    },
    {
      "cell_type": "code",
      "metadata": {
        "id": "KWbsmdtAeLQE"
      },
      "source": [
        ""
      ],
      "execution_count": null,
      "outputs": []
    }
  ]
}